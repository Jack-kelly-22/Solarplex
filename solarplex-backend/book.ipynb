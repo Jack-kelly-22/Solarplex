{
 "cells": [
  {
   "cell_type": "code",
   "execution_count": null,
   "metadata": {},
   "outputs": [],
   "source": [
    "from admin import ping_host\n",
    "import os\n",
    "# hosts ={\n",
    "#     \"opto1@192.168.0.182\"\n",
    "# }\n",
    "os.system(\"\")"
   ]
  }
 ],
 "metadata": {
  "language_info": {
   "name": "python"
  },
  "orig_nbformat": 4
 },
 "nbformat": 4,
 "nbformat_minor": 2
}
